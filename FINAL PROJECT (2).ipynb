{
 "cells": [
  {
   "cell_type": "markdown",
   "metadata": {},
   "source": [
    "# Final Project\n",
    "\n",
    "Imagine that you are starting a new pizza restaurant franchise, and you'd like to be able to take online orders. Create specified classes with following requirements. \n",
    "\n",
    " \n",
    "\n",
    "\n",
    "## Requirements\n",
    "\n",
    "####    A- Class PizzaOrder\n",
    "            - Ability to add/remove pizza(s)\n",
    "            - An order can have more than one pizza.\n",
    "            - Ability to specify the store for which the order is made\n",
    "            - Ability to apply special promotion code\n",
    "            - Ability to check the order status\n",
    "                  Possible statuses are ORDER_CREATED, ORDER_CANCELED,\n",
    "                  ORDER_READY, ORDER_ON_DELIVERY, ORDER_COMPLETE\n",
    "            - Has customer information\n",
    "    \n",
    "####    B- Class Pizza\n",
    "            - Ability to specify toppings\n",
    "            - Ability to add/remove toppings\n",
    "            - Ability to specify price\n",
    "            - Ability to specify crust type (thin/thick)\n",
    "    \n",
    "####    C- Class Store\n",
    "            - Ability to hold a list of employees\n",
    "            - Ability to add/remove employees\n",
    "            - Needs to have address including zip code\n",
    "            - Needs to have phone number\n",
    "            - Needs to be able to show monthly pizza sales\n",
    "    \n",
    "####    D- Class Employee\n",
    "            - Has first name, last name\n",
    "    \n",
    "####    E- Class Customer\n",
    "            - Has first name, last name, phone number, zip code, frequent mileage number\n",
    "            \n",
    "\n",
    "#### Notes:\n",
    "######            - You need to be able to sort PizzaOrder by order date and total order amount\n",
    "            \n",
    "######            - You need to be able to search PizzaOrder by customer\n",
    "            \n",
    "######            - You need to be able to search PizzaOrder by order date\n",
    "            \n",
    "######            - You need to be able to pull a list of PizzaOrder prior to a certain date in sorted order by date\n",
    "              \n",
    "######            - You need to be able to pull a list of PizzaOrder after a certain date in sorted order by date\n",
    "              \n",
    "######            - A customer must be able to find one of your stores in the same zip code\n",
    "            \n",
    "######            - For searching and sorting above, explain time/space computation complexity using Big O Notation.\n",
    "              \n",
    "######            - You are allowed to add any private attributes (properties/variables) and methods as necessary\n",
    "    \n",
    "<a id=\"the_top\"></a>\n"
   ]
  },
  {
   "cell_type": "markdown",
   "metadata": {},
   "source": [
    "## I-  Global Variables for the stores"
   ]
  },
  {
   "cell_type": "code",
   "execution_count": 34,
   "metadata": {},
   "outputs": [],
   "source": [
    "from datetime import datetime\n",
    "\n",
    "\"\"\"\n",
    "Some usefull functions to manipulates global variables\n",
    "\n",
    "\"\"\"\n",
    "\n",
    "PROMOTIONS = {\n",
    "    \"HAPPY HOURS\": {\"reduction\": 10},\n",
    "    \"STUDENT DEALS\": {\"reduction\": 25},\n",
    "    \"HALOWEEN\": {\"reduction\": 13},\n",
    "    \"WELCOME SENIORS\": {\"reduction\": 17},\n",
    "    \"PIZZAS LOVERS\": {\"reduction\": 30}\n",
    "}\n",
    "\n",
    "STATUS = {\n",
    "    \"ORDER_CREATED\": \"created\",\n",
    "    \"ORDER_CANCELED\": \"canceled\",\n",
    "    \"ORDER_READY\": \"ready\",\n",
    "    \"ORDER_ON_DELIVERY\": \"on_delivery\",\n",
    "    \"ORDER_COMPLETE\": \"complete\"\n",
    "}\n",
    "\n",
    "STORES = []\n",
    "\n",
    "\n",
    "\n",
    "\n",
    "\n",
    "def add_store(store):\n",
    "    STORES.append(store)\n",
    "    \n",
    "    \n",
    "def add_promotion(code, red_percentage):\n",
    "    PROMOTIONS[code] = {\"reduction\": red_percentage}"
   ]
  },
  {
   "cell_type": "markdown",
   "metadata": {},
   "source": [
    "## II- CLASSES"
   ]
  },
  {
   "cell_type": "markdown",
   "metadata": {},
   "source": [
    "### 1- Address class"
   ]
  },
  {
   "cell_type": "code",
   "execution_count": 2,
   "metadata": {},
   "outputs": [
    {
     "name": "stdout",
     "output_type": "stream",
     "text": [
      "Sample Address \n",
      "-----------------------------------------------------------------------\n",
      "\n",
      "LANHAM, SUMMER Street 12000\n"
     ]
    }
   ],
   "source": [
    "\"\"\"\n",
    "\n",
    "An address class to store all the required field for different addresses types\n",
    "\n",
    "\"\"\"\n",
    "\n",
    "class Address:\n",
    "    def __init__(self, street, city, zip_code):\n",
    "        self.street = street\n",
    "        self.city = city\n",
    "        self.zip_code = zip_code\n",
    "        \n",
    "    def __repr__(self):\n",
    "        return f\"{self.city.upper()}, {self.street.upper()} Street {self.zip_code}\"\n",
    "    \n",
    "    def __eq__(self, other): \n",
    "        if not isinstance(other, Address):\n",
    "            raise ValueError(\"don't attempt to compare against unrelated types\")\n",
    "        \n",
    "        \n",
    "        return self.street == other.street and self.city == other.city and self.zip_code == other.zip_code\n",
    "        \n",
    "        \n",
    "address = Address(city=\"Lanham\", street=\"summer\", zip_code=12000)\n",
    "\n",
    "\n",
    "print(\"Sample Address \\n-----------------------------------------------------------------------\\n\")\n",
    "print(address)\n",
    "\n",
    "\n"
   ]
  },
  {
   "cell_type": "markdown",
   "metadata": {},
   "source": [
    "### 2- Customer class"
   ]
  },
  {
   "cell_type": "code",
   "execution_count": 4,
   "metadata": {},
   "outputs": [
    {
     "name": "stdout",
     "output_type": "stream",
     "text": [
      "Sample Customer \n",
      "-----------------------------------------------------------------------\n",
      "\n",
      "john doe:   LANHAM, SUMMER Street 12000\n",
      "\n",
      "Compare two Customers \n",
      "-----------------------------------------------------------------------\n",
      "\n",
      "is john joana? ==> False\n",
      "is joana mendy? ==> True\n"
     ]
    }
   ],
   "source": [
    "\n",
    "\"\"\"\n",
    "\n",
    "Customer Class to store customer's attributes and behaviours\n",
    "\n",
    "\"\"\"\n",
    "\n",
    "class Customer:\n",
    "    def __init__(self, first_name=None, last_name=None, phone_number=None, city=None, street=None, zip_code=None, mileage=None):\n",
    "        self.first_name = first_name\n",
    "        self.last_name = last_name\n",
    "        self.phone_number = phone_number\n",
    "        self.mileage = mileage\n",
    "        self.address = Address(street, city, zip_code)\n",
    "       \n",
    "        \n",
    "    def __str__(self):\n",
    "        \n",
    "        return f\"{self.first_name} {self.last_name}:   {self.address}\"\n",
    "\n",
    "    def __repr__(self):\n",
    "        return f\"{self.last_name} {self.first_name} \\n{self.address.city} {self.address.street} Street {self.address.zip_code}\"\n",
    "    \n",
    "    def __eq__(self, other): \n",
    "        if not isinstance(other, Customer):\n",
    "            # don't attempt to compare against unrelated types\n",
    "             raise ValueError(\"don't attempt to compare against unrelated types\")\n",
    "         \n",
    "        return self.first_name == other.first_name and self.last_name == other.last_name and self.address == other.address\n",
    "        \n",
    "    def find_store_nearby(self):\n",
    "        return [store for store in STORES if store.address.zip_code == self.address.zip_code]\n",
    "    \n",
    "    \n",
    "    \n",
    "john = Customer(first_name=\"john\", last_name=\"doe\", phone_number=\"123456789\", street=\"Summer\", city=\"Lanham\", zip_code=12000, mileage=12)\n",
    "\n",
    "joana = Customer(first_name=\"joana\", last_name=\"Mendy\", phone_number=\"87255489\", street=\"Riverstate\", city=\"Takoma\", zip_code=13770, mileage=12)\n",
    "\n",
    "mendy = Customer(first_name=\"joana\", last_name=\"Mendy\", phone_number=\"87255489\", street=\"Riverstate\", city=\"Takoma\", zip_code=13770, mileage=12)\n",
    "\n",
    "\n",
    "\n",
    "print(\"Sample Customer \\n-----------------------------------------------------------------------\\n\")\n",
    "print(john)\n",
    "\n",
    "\n",
    "\n",
    "print(\"\\nCompare two Customers \\n-----------------------------------------------------------------------\\n\")\n",
    "\n",
    "print(f\"is john joana? ==> {john == joana}\")\n",
    "print(f\"is joana mendy? ==> {joana == mendy}\")"
   ]
  },
  {
   "cell_type": "markdown",
   "metadata": {},
   "source": [
    "### 3- Pizza class"
   ]
  },
  {
   "cell_type": "code",
   "execution_count": 5,
   "metadata": {},
   "outputs": [
    {
     "name": "stdout",
     "output_type": "stream",
     "text": [
      "sample pizza \n",
      "-----------------------------------------------------------------------\n",
      "\n",
      "product: Pizza Shorizo\n",
      "toppings: ['baecon', 'cheeze', 'ketchup', 'saucisse']\n",
      "amount: $17\n",
      "\n",
      "current pizza toppings \n",
      "-----------------------------------------------------------------------\n",
      "\n",
      "['baecon', 'cheeze', 'ketchup', 'saucisse']\n"
     ]
    }
   ],
   "source": [
    " \n",
    "\"\"\"\n",
    "\n",
    "Pizza class for the pizza attributes\n",
    "\n",
    "\"\"\"    \n",
    "\n",
    "class Pizza:\n",
    "    def __init__(self, name, price, crust_type, toppings=[]):\n",
    "        self.name = name\n",
    "        self.toppings = toppings\n",
    "        self.price = price\n",
    "        self.crust_type = crust_type\n",
    "        \n",
    "        \n",
    "    def __str__(self):\n",
    "        return f\"product: Pizza {self.name}\\ntoppings: {self.toppings}\\namount: ${self.price}\"\n",
    "    \n",
    "    def __repr__(self):\n",
    "        return f\"product: Pizza {self.name} toppings: {self.toppings} amount: ${self.price}\"\n",
    "    \n",
    "    def add_topping(self, top):\n",
    "        self.toppings.append(top)\n",
    "        \n",
    "        \n",
    "shorizo = Pizza(name=\"Shorizo\", price=17, crust_type=\"thin\", toppings=[\"baecon\", \"cheeze\", \"ketchup\", \"saucisse\"])\n",
    "\n",
    "\n",
    "print(\"sample pizza \\n-----------------------------------------------------------------------\\n\")\n",
    "print(shorizo)\n",
    "\n",
    "print(\"\\ncurrent pizza toppings \\n-----------------------------------------------------------------------\\n\")\n",
    "print(shorizo.toppings)"
   ]
  },
  {
   "cell_type": "code",
   "execution_count": 45,
   "metadata": {},
   "outputs": [
    {
     "name": "stdout",
     "output_type": "stream",
     "text": [
      "adding topping oignon to the pizza  \n",
      "------------------------------------------------\n",
      "\n",
      "['baecon', 'cheeze', 'ketchup', 'saucisse', 'oignons']\n"
     ]
    }
   ],
   "source": [
    "print(\"adding topping oignon to the pizza  \\n------------------------------------------------\\n\")\n",
    "\n",
    "shorizo.add_topping(\"oignons\")\n",
    "\n",
    "print(shorizo.toppings)\n",
    "\n"
   ]
  },
  {
   "cell_type": "markdown",
   "metadata": {},
   "source": [
    "### 4- Employee class"
   ]
  },
  {
   "cell_type": "code",
   "execution_count": 6,
   "metadata": {},
   "outputs": [
    {
     "name": "stdout",
     "output_type": "stream",
     "text": [
      "Employee Example \n",
      "--------------------------------------------------------\n",
      "\n",
      "jane doe\n"
     ]
    }
   ],
   "source": [
    " \"\"\"\n",
    " \n",
    " Employee class to Store employees details and methods these are just minimal informations\n",
    " about employee, can be extended.\n",
    " \n",
    " \"\"\"\n",
    "\n",
    "class Employee:\n",
    "    def __init__(self, first_name, last_name):\n",
    "        self.first_name = first_name\n",
    "        self.last_name = last_name\n",
    "        \n",
    "    def __repr__(self):\n",
    "        return f\"{self.first_name} {self.last_name}\"\n",
    "    \n",
    "\n",
    "jane = Employee(first_name=\"jane\", last_name=\"doe\")\n",
    "\n",
    "\n",
    "print(\"Employee Example \\n--------------------------------------------------------\\n\")\n",
    "print(jane)\n",
    "    "
   ]
  },
  {
   "cell_type": "markdown",
   "metadata": {},
   "source": [
    "### 5- PizzaOrder Class"
   ]
  },
  {
   "cell_type": "code",
   "execution_count": 7,
   "metadata": {},
   "outputs": [],
   "source": [
    "\"\"\"\n",
    "\n",
    "The PizzaOrder class handles the use cases for an order. \n",
    "\n",
    "1- The customer of an order  can be created when initializing a new order for non existing customer or \n",
    "   Can be set to an existing Customer.\n",
    "   \n",
    "2- Order's date is initialised to the system's time at the creation of an order this can be made unchangeable \n",
    "   but for testing purpose can be set manually, it is also possible to do the same for all the attributes that\n",
    "   should not be modified after the order has been created.\n",
    "   \n",
    "3- A promotion code can be applied directly when issuing an order or later on after the order has been issued\n",
    "\n",
    "\"\"\"\n",
    "\n",
    "class PizzaOrder: \n",
    "    def __init__(self, c_first_name=None, c_lastname=None, order=[], c_zip_code=None, promotion_code=None, customer=None):    \n",
    "        self.order = order\n",
    "        self.order_date = datetime.now()\n",
    "        self.promotion_code = promotion_code\n",
    "        self.status = STATUS[\"ORDER_CREATED\"]\n",
    "        if customer:\n",
    "            self.customer = customer\n",
    "        else:\n",
    "            self.customer = Customer(c_first_name, c_lastname, zip_code=c_zip_code)\n",
    "        self.message = []\n",
    "            \n",
    "        \n",
    "    def __str__(self):\n",
    "        return f\"Customer: {self.customer.last_name}\\n{[order for order in self.order]}\\n total {self.get_order_amount()}$ \\n on {self.order_date}\"\n",
    "    \n",
    "    def __repr__(self):\n",
    "        return f\"Customer: {self.customer.last_name}, order: {[order for order in self.order]},  total: {self.get_order_amount()}$, on: {self.order_date}\"\n",
    "        \n",
    "    \n",
    "    def add_pizza_to_order(self, pizza):\n",
    "        self.order.append(pizza)\n",
    "    \n",
    "    \n",
    "    # returns the amount of the order with the promotion applied\n",
    "    def get_order_amount(self):\n",
    "        price = sum([pizza.price for pizza in self.order])\n",
    "        #orderAMount = 0\n",
    "        \n",
    "        # try to get the promotion code if it exists in promotions \n",
    "        if self.promotion_code:\n",
    "            try:\n",
    "                reduction = PROMOTIONS[self.promotion_code][\"reduction\"]\n",
    "                self.message = []\n",
    "            except:\n",
    "                reduction = 0\n",
    "                self.message += [\"reduction not applicable: wrong promotion code\"]\n",
    "            return price * (1 - reduction/100)\n",
    "        else:\n",
    "            return price        \n",
    "    \n",
    "    \n",
    "    def apply_promotion(self, code):\n",
    "        try:\n",
    "            PROMOTIONS[code.upper()]\n",
    "            self.promotion_code = code.upper()\n",
    "            self.message = []\n",
    "        except:\n",
    "            self.message += [\"reduction not applicable: wrong promotion code\"]\n",
    "        return self.get_order_amount()\n",
    "    \n",
    "    \n",
    "    def get_order_status(self):\n",
    "        return self.status\n",
    "    \n",
    "    \n",
    "    def set_order_status(self, status):\n",
    "        try:\n",
    "            self.status = STATUS[\"status\"]\n",
    "        except:\n",
    "            self.message += [\"status does not exist\"]\n",
    "            \n",
    "    \n",
    "            \n",
    "    def complete_customer_info(self, phone, city, street, mileage):\n",
    "        self.customer.phone_number = phone\n",
    "        self.customer.city = city\n",
    "        self.customer.street = street\n",
    "        self.customer.mileage = mileage\n",
    "        \n",
    "        "
   ]
  },
  {
   "cell_type": "markdown",
   "metadata": {},
   "source": [
    "#### Custom function to format Order output"
   ]
  },
  {
   "cell_type": "code",
   "execution_count": 8,
   "metadata": {},
   "outputs": [],
   "source": [
    "\"\"\"\n",
    "custom display for an order\n",
    "\n",
    "\"\"\"\n",
    "def displayOrder(order):  \n",
    "    print(\"Customer: \", order.customer.first_name, order.customer.last_name)\n",
    "    print(\"Order: \")\n",
    "    for pizza in order.order:\n",
    "        print(\"  Pizza\",pizza.name, \"=>\",pizza.toppings, \"price:\", f'${pizza.price}')\n",
    "    if order.promotion_code:\n",
    "        print(f'Promotion Code: {order.promotion_code} \\nreduction: {PROMOTIONS[order.promotion_code][\"reduction\"]}%')\n",
    "    print(\"Total: \", f'${order.get_order_amount()}')\n",
    "    print(f\"Issued on: {order.order_date} \\n\")\n",
    "    if order.message:\n",
    "        print(\" \".join(order.message))\n",
    "        \n",
    "    print(\"_________________________________________________________________________________________________________\\n\")\n",
    "    \n",
    " "
   ]
  },
  {
   "cell_type": "markdown",
   "metadata": {},
   "source": [
    "#### creating the first order"
   ]
  },
  {
   "cell_type": "code",
   "execution_count": 9,
   "metadata": {},
   "outputs": [
    {
     "name": "stdout",
     "output_type": "stream",
     "text": [
      "Customer:  john doe\n",
      "Order: \n",
      "  Pizza Shorizo => ['baecon', 'cheeze', 'ketchup', 'saucisse'] price: $17\n",
      "Total:  $17\n",
      "Issued on: 2020-07-14 03:19:24.616993 \n",
      "\n",
      "_________________________________________________________________________________________________________\n",
      "\n"
     ]
    }
   ],
   "source": [
    "first_order = PizzaOrder(customer=john, order=[shorizo])\n",
    "\n",
    "displayOrder(first_order)"
   ]
  },
  {
   "cell_type": "markdown",
   "metadata": {},
   "source": [
    "#### adding product to order"
   ]
  },
  {
   "cell_type": "code",
   "execution_count": 10,
   "metadata": {},
   "outputs": [
    {
     "name": "stdout",
     "output_type": "stream",
     "text": [
      "Customer:  john doe\n",
      "Order: \n",
      "  Pizza Shorizo => ['baecon', 'cheeze', 'ketchup', 'saucisse'] price: $17\n",
      "  Pizza Margarita => ['salad', 'mozzarella', 'ketchup', 'mayo'] price: $20\n",
      "Total:  $37\n",
      "Issued on: 2020-07-14 03:19:24.616993 \n",
      "\n",
      "_________________________________________________________________________________________________________\n",
      "\n"
     ]
    }
   ],
   "source": [
    "first_order.add_pizza_to_order(Pizza(name=\"Margarita\", toppings=[\"salad\", \"mozzarella\", \"ketchup\", \"mayo\"], price=20, crust_type=\"thik\"))\n",
    "\n",
    "displayOrder(first_order)"
   ]
  },
  {
   "cell_type": "markdown",
   "metadata": {},
   "source": [
    "#### applying a promotion code to the order "
   ]
  },
  {
   "cell_type": "code",
   "execution_count": 11,
   "metadata": {},
   "outputs": [
    {
     "name": "stdout",
     "output_type": "stream",
     "text": [
      "Customer:  john doe\n",
      "Order: \n",
      "  Pizza Shorizo => ['baecon', 'cheeze', 'ketchup', 'saucisse'] price: $17\n",
      "  Pizza Margarita => ['salad', 'mozzarella', 'ketchup', 'mayo'] price: $20\n",
      "Promotion Code: STUDENT DEALS \n",
      "reduction: 25%\n",
      "Total:  $27.75\n",
      "Issued on: 2020-07-14 03:19:24.616993 \n",
      "\n",
      "_________________________________________________________________________________________________________\n",
      "\n"
     ]
    }
   ],
   "source": [
    "first_order.apply_promotion(\"student deals\")\n",
    "              \n",
    "displayOrder(first_order)\n",
    "   "
   ]
  },
  {
   "cell_type": "markdown",
   "metadata": {},
   "source": [
    "### 5- Store Class"
   ]
  },
  {
   "cell_type": "code",
   "execution_count": 13,
   "metadata": {},
   "outputs": [],
   "source": [
    "class Store:\n",
    "    def __init__(self, phone_number, street, zip_code, city, employees = []):\n",
    "        self.address = Address(street, city, zip_code)\n",
    "        self.employees = employees\n",
    "        self.phone_number = phone_number\n",
    "        self.orders = []\n",
    "        \n",
    "    def __str__(self):\n",
    "        return f\"PIZZA CORNER: {self.address}, \\nphone: {self.phone_number}\"\n",
    "    \n",
    "    \n",
    "    def __repr__(self):\n",
    "        return f\"PIZZA CORNER: {self.address}, \\nphone: {self.phone_number}\"\n",
    "        \n",
    "    def add_employee(self, employee):\n",
    "        self.employees.append(employee)\n",
    "        \n",
    "    def add_order(self, order):\n",
    "        self.order.append(order)\n",
    "        \n",
    "        \n",
    "    def search_order_by_customer(self, customer):\n",
    "        return [order for order in self.orders if order.customer == customer]\n",
    "    \n",
    "    def search_order_by_customer_name(self, name):\n",
    "        return [order for order in self.orders if order.customer.last_name == name]\n",
    "\n",
    "    def search_order_by_date(self, year, month, day):\n",
    "        date_to_search = datetime(year, month, day).date()\n",
    "        return [order for order in self.orders if order.order_date.date() == date_to_search]\n",
    "    \n",
    "    def search_order_prior_to(self, year, month, day):\n",
    "        date_to_search = datetime(year, month, day).date()\n",
    "        sorted_list = sorted([order for order in self.orders if order.order_date.date() < date_to_search ], key=lambda x: x.order_date, reverse=True)\n",
    "        return sorted_list\n",
    "        \n",
    "    \n",
    "    def search_order_after(self, year, month, day):\n",
    "        date_to_search = datetime(year, month, day).date()\n",
    "        sorted_list = sorted([order for order in self.orders if order.order_date.date() > date_to_search ], key=lambda x: x.order_date, reverse=True)\n",
    "        return sorted_list\n",
    "\n",
    "    \n",
    "    \n",
    "    def get_monthly_pizza_sales(self, year, month):\n",
    "        return sum([order.get_order_amount() for order in self.orders if order.order_date.month == month and order.order_date.year == year])\n",
    "        \n",
    "        \n",
    "        \n",
    "        "
   ]
  },
  {
   "cell_type": "markdown",
   "metadata": {},
   "source": [
    "\n",
    "                \n",
    "##  III- STORE TESTS               \n",
    "\n"
   ]
  },
  {
   "cell_type": "code",
   "execution_count": 15,
   "metadata": {},
   "outputs": [],
   "source": [
    "\"\"\"\n",
    " \n",
    "Some random values to create multiple Items for testing the store methods\n",
    "\n",
    "\"\"\"\n",
    "\n",
    "pizza_names = [\"Barbecue\", \"conference\", \"Green\", \"Charal\", \"Chorizo\", \"Ramona\", \"Peperoni\", \"Box\"]\n",
    "\n",
    "pizza_prices = [25, 15, 17, 20, 24, 25, 16, 18]\n",
    "\n",
    "all_toppings = [[\"baecon\", \"cheeze\", \"ketchup\", \"saucisse\"], [\"salad\", \"mozzarella\", \"ketchup\", \"mayo\"]]\n",
    "\n",
    "crust = [\"thin\", \"thick\"]\n",
    "\n",
    "zip_codes = [1051, 1557, 77629, 1167, 90002, 13568, 2467, 42571]\n",
    "\n",
    "street_names = [\"King Arthur\", \"Ixelles\", \"Boondael\", \"springs\", \"Black Lives Pl\", \"digital live\"]\n",
    "\n",
    "cities = [\"Hyattsville\", \"Takoma\", \"Silver Spring\", \"Columbia\", \"Laurel\", \"Riverdale\", \"Landover\"]\n",
    "\n",
    "numbers = [\"098765445678\", \"9876542567\", \"0987656789\", \"3456789287\", \"9876567898764\", \"4567898765678\", \"87654568\"]\n",
    "\n",
    "c_names = [\"Terry\", \"Cooper\", \"Conery\", \"sparrow\", \"Reagan\", \"House\", \"Garnet\", \"Monk\", \"Popstar\", \"Cole\", \"Scott\"]\n",
    "\n",
    "c_firs_names = [\"frank\", \"jack\", \"dani\", \"jimmy\", \"kathreen\", \"mat\", \"liz\", \"manu\", \"ann\", \"helene\"]\n",
    "\n",
    "\n",
    "all_dates = [datetime(2020, 1, 23), datetime(2020, 2, 13), datetime(2020, 3, 10), datetime(2020, 4, 3), datetime(2020, 2, 6)]"
   ]
  },
  {
   "cell_type": "markdown",
   "metadata": {},
   "source": [
    "#### Custom function to  Display a range of element in list within a selected range"
   ]
  },
  {
   "cell_type": "code",
   "execution_count": 16,
   "metadata": {},
   "outputs": [],
   "source": [
    "def show_content_range(content, start=0, end=10):\n",
    "    if start > len(content):\n",
    "        start = len(content)-1\n",
    "        \n",
    "    if start > end and start in range(len(content)):\n",
    "        start = end - 1        \n",
    "    if end >= len(content):\n",
    "        end = len(content)\n",
    "    print(f\"Total number of Items: {len(content)}\")\n",
    "    print(f\"Items from {start} to {end} \\n\")   \n",
    "    for element in content[start:end]:\n",
    "        # here we use the function to display order if the element is of type PizzaOrder\n",
    "        if isinstance(element, PizzaOrder):\n",
    "            displayOrder(element)\n",
    "        else:\n",
    "            print(element)\n",
    "    "
   ]
  },
  {
   "cell_type": "markdown",
   "metadata": {},
   "source": [
    "[Here is a link to the top of the page](#the_top)"
   ]
  },
  {
   "cell_type": "markdown",
   "metadata": {},
   "source": [
    "#### creating a random number of customers"
   ]
  },
  {
   "cell_type": "code",
   "execution_count": 19,
   "metadata": {},
   "outputs": [
    {
     "name": "stdout",
     "output_type": "stream",
     "text": [
      "Total number of Items: 100\n",
      "Items from 5 to 15 \n",
      "\n",
      "ann Popstar:   COLUMBIA, IXELLES Street 42571\n",
      "liz Monk:   LANDOVER, KING ARTHUR Street 13568\n",
      "kathreen Cole:   HYATTSVILLE, KING ARTHUR Street 13568\n",
      "ann sparrow:   HYATTSVILLE, DIGITAL LIVE Street 13568\n",
      "frank Popstar:   HYATTSVILLE, BOONDAEL Street 90002\n",
      "manu sparrow:   COLUMBIA, DIGITAL LIVE Street 90002\n",
      "liz Reagan:   LAUREL, BOONDAEL Street 1051\n",
      "dani Scott:   LANDOVER, DIGITAL LIVE Street 1557\n",
      "manu Conery:   LAUREL, BOONDAEL Street 13568\n",
      "ann sparrow:   COLUMBIA, DIGITAL LIVE Street 90002\n"
     ]
    }
   ],
   "source": [
    "from random import randint\n",
    "\n",
    "def init_customers(number):\n",
    "    return [Customer(c_firs_names[randint(0, 9)],\n",
    "                     c_names[randint(0, 10)],  \n",
    "                     numbers[randint(0, 6)], \n",
    "                     cities[randint(0, 6)], \n",
    "                     street_names[randint(0, 5)], \n",
    "                     zip_codes[randint(0, 7)], \n",
    "                     randint(4, 35)) for i in range(number)]\n",
    "\n",
    "customers = init_customers(100)\n",
    "\n",
    "show_content_range(customers, start=5, end=15)"
   ]
  },
  {
   "cell_type": "markdown",
   "metadata": {},
   "source": [
    "#### creating some pizzas"
   ]
  },
  {
   "cell_type": "code",
   "execution_count": 20,
   "metadata": {},
   "outputs": [
    {
     "name": "stdout",
     "output_type": "stream",
     "text": [
      "Total number of Items: 8\n",
      "Items from 0 to 8 \n",
      "\n",
      "product: Pizza Barbecue\n",
      "toppings: ['baecon', 'cheeze', 'ketchup', 'saucisse']\n",
      "amount: $25\n",
      "product: Pizza conference\n",
      "toppings: ['salad', 'mozzarella', 'ketchup', 'mayo']\n",
      "amount: $15\n",
      "product: Pizza Green\n",
      "toppings: ['baecon', 'cheeze', 'ketchup', 'saucisse']\n",
      "amount: $17\n",
      "product: Pizza Charal\n",
      "toppings: ['baecon', 'cheeze', 'ketchup', 'saucisse']\n",
      "amount: $20\n",
      "product: Pizza Chorizo\n",
      "toppings: ['baecon', 'cheeze', 'ketchup', 'saucisse']\n",
      "amount: $24\n",
      "product: Pizza Ramona\n",
      "toppings: ['salad', 'mozzarella', 'ketchup', 'mayo']\n",
      "amount: $25\n",
      "product: Pizza Peperoni\n",
      "toppings: ['salad', 'mozzarella', 'ketchup', 'mayo']\n",
      "amount: $16\n",
      "product: Pizza Box\n",
      "toppings: ['baecon', 'cheeze', 'ketchup', 'saucisse']\n",
      "amount: $18\n"
     ]
    }
   ],
   "source": [
    "# create some pizzas\n",
    "def initialisePizzas():\n",
    "    return [Pizza(pizza_names[i], pizza_prices[i], crust[randint(0,1)], all_toppings[randint(0,1)]) for i in range(len(pizza_names))]\n",
    "\n",
    "pizzas = initialisePizzas()\n",
    "\n",
    "show_content_range(pizzas)"
   ]
  },
  {
   "cell_type": "markdown",
   "metadata": {},
   "source": [
    "#### initializing a random number of Orders"
   ]
  },
  {
   "cell_type": "code",
   "execution_count": 21,
   "metadata": {},
   "outputs": [
    {
     "name": "stdout",
     "output_type": "stream",
     "text": [
      "Total number of Items: 500\n",
      "Items from 10 to 15 \n",
      "\n",
      "Customer:  frank House\n",
      "Order: \n",
      "  Pizza Ramona => ['salad', 'mozzarella', 'ketchup', 'mayo'] price: $25\n",
      "  Pizza Ramona => ['salad', 'mozzarella', 'ketchup', 'mayo'] price: $25\n",
      "  Pizza Green => ['baecon', 'cheeze', 'ketchup', 'saucisse'] price: $17\n",
      "  Pizza Ramona => ['salad', 'mozzarella', 'ketchup', 'mayo'] price: $25\n",
      "Promotion Code: HALOWEEN \n",
      "reduction: 13%\n",
      "Total:  $80.04\n",
      "Issued on: 2020-07-14 03:21:00.074759 \n",
      "\n",
      "_________________________________________________________________________________________________________\n",
      "\n",
      "Customer:  jimmy Conery\n",
      "Order: \n",
      "  Pizza Green => ['baecon', 'cheeze', 'ketchup', 'saucisse'] price: $17\n",
      "Promotion Code: WELCOME SENIORS \n",
      "reduction: 17%\n",
      "Total:  $14.11\n",
      "Issued on: 2020-07-14 03:21:00.074759 \n",
      "\n",
      "_________________________________________________________________________________________________________\n",
      "\n",
      "Customer:  jimmy Garnet\n",
      "Order: \n",
      "  Pizza Box => ['baecon', 'cheeze', 'ketchup', 'saucisse'] price: $18\n",
      "  Pizza Box => ['baecon', 'cheeze', 'ketchup', 'saucisse'] price: $18\n",
      "  Pizza Box => ['baecon', 'cheeze', 'ketchup', 'saucisse'] price: $18\n",
      "Promotion Code: WELCOME SENIORS \n",
      "reduction: 17%\n",
      "Total:  $44.82\n",
      "Issued on: 2020-07-14 03:21:00.074759 \n",
      "\n",
      "_________________________________________________________________________________________________________\n",
      "\n",
      "Customer:  helene Cole\n",
      "Order: \n",
      "  Pizza Barbecue => ['baecon', 'cheeze', 'ketchup', 'saucisse'] price: $25\n",
      "  Pizza Charal => ['baecon', 'cheeze', 'ketchup', 'saucisse'] price: $20\n",
      "  Pizza conference => ['salad', 'mozzarella', 'ketchup', 'mayo'] price: $15\n",
      "Promotion Code: HAPPY HOURS \n",
      "reduction: 10%\n",
      "Total:  $54.0\n",
      "Issued on: 2020-07-14 03:21:00.074759 \n",
      "\n",
      "_________________________________________________________________________________________________________\n",
      "\n",
      "Customer:  liz Reagan\n",
      "Order: \n",
      "  Pizza Box => ['baecon', 'cheeze', 'ketchup', 'saucisse'] price: $18\n",
      "  Pizza Ramona => ['salad', 'mozzarella', 'ketchup', 'mayo'] price: $25\n",
      "  Pizza Box => ['baecon', 'cheeze', 'ketchup', 'saucisse'] price: $18\n",
      "Promotion Code: STUDENT DEALS \n",
      "reduction: 25%\n",
      "Total:  $45.75\n",
      "Issued on: 2020-07-14 03:21:00.074759 \n",
      "\n",
      "_________________________________________________________________________________________________________\n",
      "\n"
     ]
    }
   ],
   "source": [
    "def init_orders(number):\n",
    "    orders = [PizzaOrder(customer=customers[randint(0, 99)], order=[pizzas[randint(0,7)] for i in range(randint(1,6))]) for i in range(number)]\n",
    "    promotions =  [\"HAPPY HOURS\",\"STUDENT DEALS\", \"HALOWEEN\", \"WELCOME SENIORS\", \"PIZZAS LOVERS\", \"FAKE PROMOTION\"]\n",
    "    for i in range(number//5):\n",
    "        orders[i].apply_promotion(promotions[randint(0,5)])\n",
    "    return orders\n",
    "        \n",
    "\n",
    "    \n",
    "orders = init_orders(500)\n",
    "\n",
    "show_content_range(orders, start=10, end=15)\n"
   ]
  },
  {
   "cell_type": "markdown",
   "metadata": {},
   "source": [
    "#### Defining a random date for each order"
   ]
  },
  {
   "cell_type": "code",
   "execution_count": 22,
   "metadata": {},
   "outputs": [
    {
     "name": "stdout",
     "output_type": "stream",
     "text": [
      "Total number of Items: 500\n",
      "Items from 50 to 55 \n",
      "\n",
      "Customer:  frank Scott\n",
      "Order: \n",
      "  Pizza Chorizo => ['baecon', 'cheeze', 'ketchup', 'saucisse'] price: $24\n",
      "  Pizza Box => ['baecon', 'cheeze', 'ketchup', 'saucisse'] price: $18\n",
      "  Pizza Peperoni => ['salad', 'mozzarella', 'ketchup', 'mayo'] price: $16\n",
      "  Pizza Peperoni => ['salad', 'mozzarella', 'ketchup', 'mayo'] price: $16\n",
      "Promotion Code: PIZZAS LOVERS \n",
      "reduction: 30%\n",
      "Total:  $51.8\n",
      "Issued on: 2020-04-03 00:00:00 \n",
      "\n",
      "_________________________________________________________________________________________________________\n",
      "\n",
      "Customer:  helene Cole\n",
      "Order: \n",
      "  Pizza Box => ['baecon', 'cheeze', 'ketchup', 'saucisse'] price: $18\n",
      "  Pizza Charal => ['baecon', 'cheeze', 'ketchup', 'saucisse'] price: $20\n",
      "Promotion Code: STUDENT DEALS \n",
      "reduction: 25%\n",
      "Total:  $28.5\n",
      "Issued on: 2020-04-03 00:00:00 \n",
      "\n",
      "_________________________________________________________________________________________________________\n",
      "\n",
      "Customer:  frank Monk\n",
      "Order: \n",
      "  Pizza Charal => ['baecon', 'cheeze', 'ketchup', 'saucisse'] price: $20\n",
      "  Pizza Green => ['baecon', 'cheeze', 'ketchup', 'saucisse'] price: $17\n",
      "  Pizza Chorizo => ['baecon', 'cheeze', 'ketchup', 'saucisse'] price: $24\n",
      "  Pizza Charal => ['baecon', 'cheeze', 'ketchup', 'saucisse'] price: $20\n",
      "Promotion Code: HAPPY HOURS \n",
      "reduction: 10%\n",
      "Total:  $72.9\n",
      "Issued on: 2020-04-03 00:00:00 \n",
      "\n",
      "_________________________________________________________________________________________________________\n",
      "\n",
      "Customer:  frank Monk\n",
      "Order: \n",
      "  Pizza Box => ['baecon', 'cheeze', 'ketchup', 'saucisse'] price: $18\n",
      "  Pizza conference => ['salad', 'mozzarella', 'ketchup', 'mayo'] price: $15\n",
      "Total:  $33\n",
      "Issued on: 2020-03-10 00:00:00 \n",
      "\n",
      "reduction not applicable: wrong promotion code\n",
      "_________________________________________________________________________________________________________\n",
      "\n",
      "Customer:  frank Conery\n",
      "Order: \n",
      "  Pizza Ramona => ['salad', 'mozzarella', 'ketchup', 'mayo'] price: $25\n",
      "  Pizza Green => ['baecon', 'cheeze', 'ketchup', 'saucisse'] price: $17\n",
      "  Pizza Chorizo => ['baecon', 'cheeze', 'ketchup', 'saucisse'] price: $24\n",
      "Promotion Code: PIZZAS LOVERS \n",
      "reduction: 30%\n",
      "Total:  $46.199999999999996\n",
      "Issued on: 2020-04-03 00:00:00 \n",
      "\n",
      "_________________________________________________________________________________________________________\n",
      "\n"
     ]
    }
   ],
   "source": [
    "def random_dated_orders(num):\n",
    "    orders = init_orders(num)\n",
    "    for order in orders:\n",
    "        order.order_date = all_dates[randint(0, 4)]\n",
    "    return orders\n",
    "\n",
    "\n",
    "dated_orders = random_dated_orders(500)\n",
    "\n",
    "show_content_range(dated_orders, start=50, end=55)"
   ]
  },
  {
   "cell_type": "markdown",
   "metadata": {},
   "source": [
    "#### Creating a store"
   ]
  },
  {
   "cell_type": "code",
   "execution_count": 23,
   "metadata": {},
   "outputs": [
    {
     "name": "stdout",
     "output_type": "stream",
     "text": [
      "PIZZA CORNER: TAKOMA, BLACK LIVES PL MD Street 1557, \n",
      "phone: 12345654345\n"
     ]
    }
   ],
   "source": [
    "first_store = Store(12345654345, \"Black Lives Pl\"\" \"\"MD\", 1557, \"Takoma\")\n",
    "\n",
    "\n",
    "print(first_store)"
   ]
  },
  {
   "cell_type": "markdown",
   "metadata": {},
   "source": [
    "#### Add store to the Global sores"
   ]
  },
  {
   "cell_type": "code",
   "execution_count": 24,
   "metadata": {},
   "outputs": [
    {
     "name": "stdout",
     "output_type": "stream",
     "text": [
      "Total number of Items: 1\n",
      "Items from 0 to 1 \n",
      "\n",
      "PIZZA CORNER: TAKOMA, BLACK LIVES PL MD Street 1557, \n",
      "phone: 12345654345\n"
     ]
    }
   ],
   "source": [
    "STORES.append(first_store)\n",
    "\n",
    "show_content_range(STORES)"
   ]
  },
  {
   "cell_type": "markdown",
   "metadata": {},
   "source": [
    "#### Initializing Store orders "
   ]
  },
  {
   "cell_type": "code",
   "execution_count": 25,
   "metadata": {},
   "outputs": [
    {
     "name": "stdout",
     "output_type": "stream",
     "text": [
      "Total number of Items: 500\n",
      "Items from 0 to 5 \n",
      "\n",
      "Customer:  kathreen Popstar\n",
      "Order: \n",
      "  Pizza Peperoni => ['salad', 'mozzarella', 'ketchup', 'mayo'] price: $16\n",
      "  Pizza Chorizo => ['baecon', 'cheeze', 'ketchup', 'saucisse'] price: $24\n",
      "  Pizza Charal => ['baecon', 'cheeze', 'ketchup', 'saucisse'] price: $20\n",
      "  Pizza Green => ['baecon', 'cheeze', 'ketchup', 'saucisse'] price: $17\n",
      "  Pizza Chorizo => ['baecon', 'cheeze', 'ketchup', 'saucisse'] price: $24\n",
      "Total:  $101\n",
      "Issued on: 2020-02-06 00:00:00 \n",
      "\n",
      "reduction not applicable: wrong promotion code\n",
      "_________________________________________________________________________________________________________\n",
      "\n",
      "Customer:  manu Scott\n",
      "Order: \n",
      "  Pizza Green => ['baecon', 'cheeze', 'ketchup', 'saucisse'] price: $17\n",
      "  Pizza Chorizo => ['baecon', 'cheeze', 'ketchup', 'saucisse'] price: $24\n",
      "  Pizza Barbecue => ['baecon', 'cheeze', 'ketchup', 'saucisse'] price: $25\n",
      "  Pizza Box => ['baecon', 'cheeze', 'ketchup', 'saucisse'] price: $18\n",
      "  Pizza Box => ['baecon', 'cheeze', 'ketchup', 'saucisse'] price: $18\n",
      "Promotion Code: PIZZAS LOVERS \n",
      "reduction: 30%\n",
      "Total:  $71.39999999999999\n",
      "Issued on: 2020-02-06 00:00:00 \n",
      "\n",
      "_________________________________________________________________________________________________________\n",
      "\n",
      "Customer:  mat Garnet\n",
      "Order: \n",
      "  Pizza Green => ['baecon', 'cheeze', 'ketchup', 'saucisse'] price: $17\n",
      "  Pizza Barbecue => ['baecon', 'cheeze', 'ketchup', 'saucisse'] price: $25\n",
      "Promotion Code: PIZZAS LOVERS \n",
      "reduction: 30%\n",
      "Total:  $29.4\n",
      "Issued on: 2020-02-13 00:00:00 \n",
      "\n",
      "_________________________________________________________________________________________________________\n",
      "\n",
      "Customer:  manu sparrow\n",
      "Order: \n",
      "  Pizza Barbecue => ['baecon', 'cheeze', 'ketchup', 'saucisse'] price: $25\n",
      "  Pizza Chorizo => ['baecon', 'cheeze', 'ketchup', 'saucisse'] price: $24\n",
      "Promotion Code: WELCOME SENIORS \n",
      "reduction: 17%\n",
      "Total:  $40.669999999999995\n",
      "Issued on: 2020-04-03 00:00:00 \n",
      "\n",
      "_________________________________________________________________________________________________________\n",
      "\n",
      "Customer:  jimmy Reagan\n",
      "Order: \n",
      "  Pizza Box => ['baecon', 'cheeze', 'ketchup', 'saucisse'] price: $18\n",
      "  Pizza Peperoni => ['salad', 'mozzarella', 'ketchup', 'mayo'] price: $16\n",
      "  Pizza Chorizo => ['baecon', 'cheeze', 'ketchup', 'saucisse'] price: $24\n",
      "  Pizza Chorizo => ['baecon', 'cheeze', 'ketchup', 'saucisse'] price: $24\n",
      "  Pizza Chorizo => ['baecon', 'cheeze', 'ketchup', 'saucisse'] price: $24\n",
      "Promotion Code: WELCOME SENIORS \n",
      "reduction: 17%\n",
      "Total:  $87.97999999999999\n",
      "Issued on: 2020-02-06 00:00:00 \n",
      "\n",
      "_________________________________________________________________________________________________________\n",
      "\n"
     ]
    }
   ],
   "source": [
    "first_store.orders = dated_orders\n",
    "\n",
    "show_content_range(first_store.orders, end=5)"
   ]
  },
  {
   "cell_type": "markdown",
   "metadata": {},
   "source": [
    "#### Getting order by customer"
   ]
  },
  {
   "cell_type": "code",
   "execution_count": 26,
   "metadata": {},
   "outputs": [
    {
     "name": "stdout",
     "output_type": "stream",
     "text": [
      "Total number of Items: 6\n",
      "Items from 0 to 5 \n",
      "\n",
      "Customer:  jimmy sparrow\n",
      "Order: \n",
      "  Pizza Green => ['baecon', 'cheeze', 'ketchup', 'saucisse'] price: $17\n",
      "  Pizza conference => ['salad', 'mozzarella', 'ketchup', 'mayo'] price: $15\n",
      "Total:  $32\n",
      "Issued on: 2020-02-13 00:00:00 \n",
      "\n",
      "_________________________________________________________________________________________________________\n",
      "\n",
      "Customer:  jimmy sparrow\n",
      "Order: \n",
      "  Pizza Ramona => ['salad', 'mozzarella', 'ketchup', 'mayo'] price: $25\n",
      "  Pizza Green => ['baecon', 'cheeze', 'ketchup', 'saucisse'] price: $17\n",
      "Total:  $42\n",
      "Issued on: 2020-04-03 00:00:00 \n",
      "\n",
      "_________________________________________________________________________________________________________\n",
      "\n",
      "Customer:  jimmy sparrow\n",
      "Order: \n",
      "  Pizza conference => ['salad', 'mozzarella', 'ketchup', 'mayo'] price: $15\n",
      "  Pizza Ramona => ['salad', 'mozzarella', 'ketchup', 'mayo'] price: $25\n",
      "Total:  $40\n",
      "Issued on: 2020-01-23 00:00:00 \n",
      "\n",
      "_________________________________________________________________________________________________________\n",
      "\n",
      "Customer:  jimmy sparrow\n",
      "Order: \n",
      "  Pizza conference => ['salad', 'mozzarella', 'ketchup', 'mayo'] price: $15\n",
      "Total:  $15\n",
      "Issued on: 2020-02-13 00:00:00 \n",
      "\n",
      "_________________________________________________________________________________________________________\n",
      "\n",
      "Customer:  jimmy sparrow\n",
      "Order: \n",
      "  Pizza Box => ['baecon', 'cheeze', 'ketchup', 'saucisse'] price: $18\n",
      "  Pizza Box => ['baecon', 'cheeze', 'ketchup', 'saucisse'] price: $18\n",
      "  Pizza Green => ['baecon', 'cheeze', 'ketchup', 'saucisse'] price: $17\n",
      "  Pizza Chorizo => ['baecon', 'cheeze', 'ketchup', 'saucisse'] price: $24\n",
      "Total:  $77\n",
      "Issued on: 2020-04-03 00:00:00 \n",
      "\n",
      "_________________________________________________________________________________________________________\n",
      "\n"
     ]
    }
   ],
   "source": [
    "# get a random customer from the customer list\n",
    "guest = customers[randint(0, len(customers))]\n",
    "   \n",
    "c_orders = first_store.search_order_by_customer(guest)\n",
    "\n",
    "show_content_range(c_orders, end=5)\n",
    "\n"
   ]
  },
  {
   "cell_type": "markdown",
   "metadata": {},
   "source": [
    "#### Get orders by customer name"
   ]
  },
  {
   "cell_type": "code",
   "execution_count": 27,
   "metadata": {},
   "outputs": [
    {
     "name": "stdout",
     "output_type": "stream",
     "text": [
      "Total number of Items: 20\n",
      "Items from 0 to 5 \n",
      "\n",
      "Customer:  mat Cooper\n",
      "Order: \n",
      "  Pizza conference => ['salad', 'mozzarella', 'ketchup', 'mayo'] price: $15\n",
      "  Pizza Box => ['baecon', 'cheeze', 'ketchup', 'saucisse'] price: $18\n",
      "  Pizza Barbecue => ['baecon', 'cheeze', 'ketchup', 'saucisse'] price: $25\n",
      "  Pizza Barbecue => ['baecon', 'cheeze', 'ketchup', 'saucisse'] price: $25\n",
      "  Pizza Peperoni => ['salad', 'mozzarella', 'ketchup', 'mayo'] price: $16\n",
      "  Pizza Barbecue => ['baecon', 'cheeze', 'ketchup', 'saucisse'] price: $25\n",
      "Promotion Code: PIZZAS LOVERS \n",
      "reduction: 30%\n",
      "Total:  $86.8\n",
      "Issued on: 2020-02-06 00:00:00 \n",
      "\n",
      "_________________________________________________________________________________________________________\n",
      "\n",
      "Customer:  liz Cooper\n",
      "Order: \n",
      "  Pizza Chorizo => ['baecon', 'cheeze', 'ketchup', 'saucisse'] price: $24\n",
      "  Pizza Charal => ['baecon', 'cheeze', 'ketchup', 'saucisse'] price: $20\n",
      "Promotion Code: PIZZAS LOVERS \n",
      "reduction: 30%\n",
      "Total:  $30.799999999999997\n",
      "Issued on: 2020-02-06 00:00:00 \n",
      "\n",
      "_________________________________________________________________________________________________________\n",
      "\n",
      "Customer:  liz Cooper\n",
      "Order: \n",
      "  Pizza conference => ['salad', 'mozzarella', 'ketchup', 'mayo'] price: $15\n",
      "  Pizza Chorizo => ['baecon', 'cheeze', 'ketchup', 'saucisse'] price: $24\n",
      "Total:  $39\n",
      "Issued on: 2020-04-03 00:00:00 \n",
      "\n",
      "_________________________________________________________________________________________________________\n",
      "\n",
      "Customer:  mat Cooper\n",
      "Order: \n",
      "  Pizza Barbecue => ['baecon', 'cheeze', 'ketchup', 'saucisse'] price: $25\n",
      "  Pizza Ramona => ['salad', 'mozzarella', 'ketchup', 'mayo'] price: $25\n",
      "Total:  $50\n",
      "Issued on: 2020-02-13 00:00:00 \n",
      "\n",
      "_________________________________________________________________________________________________________\n",
      "\n",
      "Customer:  jack Cooper\n",
      "Order: \n",
      "  Pizza Ramona => ['salad', 'mozzarella', 'ketchup', 'mayo'] price: $25\n",
      "  Pizza Peperoni => ['salad', 'mozzarella', 'ketchup', 'mayo'] price: $16\n",
      "  Pizza Box => ['baecon', 'cheeze', 'ketchup', 'saucisse'] price: $18\n",
      "Total:  $59\n",
      "Issued on: 2020-02-06 00:00:00 \n",
      "\n",
      "_________________________________________________________________________________________________________\n",
      "\n"
     ]
    }
   ],
   "source": [
    "# in this case many customers can have the same name\n",
    "coopers_orders = first_store.search_order_by_customer_name(\"Cooper\")\n",
    "show_content_range(coopers_orders, end=5)"
   ]
  },
  {
   "cell_type": "markdown",
   "metadata": {},
   "source": [
    "#### Get order By date"
   ]
  },
  {
   "cell_type": "code",
   "execution_count": 28,
   "metadata": {},
   "outputs": [
    {
     "name": "stdout",
     "output_type": "stream",
     "text": [
      "Total number of Items: 97\n",
      "Items from 0 to 5 \n",
      "\n",
      "Customer:  manu sparrow\n",
      "Order: \n",
      "  Pizza Ramona => ['salad', 'mozzarella', 'ketchup', 'mayo'] price: $25\n",
      "  Pizza Ramona => ['salad', 'mozzarella', 'ketchup', 'mayo'] price: $25\n",
      "  Pizza Chorizo => ['baecon', 'cheeze', 'ketchup', 'saucisse'] price: $24\n",
      "  Pizza Green => ['baecon', 'cheeze', 'ketchup', 'saucisse'] price: $17\n",
      "Promotion Code: HALOWEEN \n",
      "reduction: 13%\n",
      "Total:  $79.17\n",
      "Issued on: 2020-01-23 00:00:00 \n",
      "\n",
      "_________________________________________________________________________________________________________\n",
      "\n",
      "Customer:  jack Terry\n",
      "Order: \n",
      "  Pizza conference => ['salad', 'mozzarella', 'ketchup', 'mayo'] price: $15\n",
      "Total:  $15\n",
      "Issued on: 2020-01-23 00:00:00 \n",
      "\n",
      "reduction not applicable: wrong promotion code\n",
      "_________________________________________________________________________________________________________\n",
      "\n",
      "Customer:  helene Scott\n",
      "Order: \n",
      "  Pizza Box => ['baecon', 'cheeze', 'ketchup', 'saucisse'] price: $18\n",
      "  Pizza Box => ['baecon', 'cheeze', 'ketchup', 'saucisse'] price: $18\n",
      "  Pizza Barbecue => ['baecon', 'cheeze', 'ketchup', 'saucisse'] price: $25\n",
      "  Pizza conference => ['salad', 'mozzarella', 'ketchup', 'mayo'] price: $15\n",
      "Promotion Code: STUDENT DEALS \n",
      "reduction: 25%\n",
      "Total:  $57.0\n",
      "Issued on: 2020-01-23 00:00:00 \n",
      "\n",
      "_________________________________________________________________________________________________________\n",
      "\n",
      "Customer:  jimmy sparrow\n",
      "Order: \n",
      "  Pizza Chorizo => ['baecon', 'cheeze', 'ketchup', 'saucisse'] price: $24\n",
      "Total:  $24\n",
      "Issued on: 2020-01-23 00:00:00 \n",
      "\n",
      "reduction not applicable: wrong promotion code\n",
      "_________________________________________________________________________________________________________\n",
      "\n",
      "Customer:  dani sparrow\n",
      "Order: \n",
      "  Pizza Green => ['baecon', 'cheeze', 'ketchup', 'saucisse'] price: $17\n",
      "  Pizza Box => ['baecon', 'cheeze', 'ketchup', 'saucisse'] price: $18\n",
      "  Pizza Ramona => ['salad', 'mozzarella', 'ketchup', 'mayo'] price: $25\n",
      "  Pizza conference => ['salad', 'mozzarella', 'ketchup', 'mayo'] price: $15\n",
      "  Pizza Box => ['baecon', 'cheeze', 'ketchup', 'saucisse'] price: $18\n",
      "Promotion Code: WELCOME SENIORS \n",
      "reduction: 17%\n",
      "Total:  $77.19\n",
      "Issued on: 2020-01-23 00:00:00 \n",
      "\n",
      "_________________________________________________________________________________________________________\n",
      "\n"
     ]
    }
   ],
   "source": [
    "order_by_date = first_store.search_order_by_date(2020, 1, 23)\n",
    "\n",
    "show_content_range(order_by_date, end=5)"
   ]
  },
  {
   "cell_type": "markdown",
   "metadata": {},
   "source": [
    "#### Get orders prior to a specified date "
   ]
  },
  {
   "cell_type": "code",
   "execution_count": 29,
   "metadata": {},
   "outputs": [
    {
     "name": "stdout",
     "output_type": "stream",
     "text": [
      "Total number of Items: 401\n",
      "Items from 0 to 5 \n",
      "\n",
      "Customer:  manu Popstar\n",
      "Order: \n",
      "  Pizza Box => ['baecon', 'cheeze', 'ketchup', 'saucisse'] price: $18\n",
      "  Pizza Charal => ['baecon', 'cheeze', 'ketchup', 'saucisse'] price: $20\n",
      "  Pizza Ramona => ['salad', 'mozzarella', 'ketchup', 'mayo'] price: $25\n",
      "Promotion Code: PIZZAS LOVERS \n",
      "reduction: 30%\n",
      "Total:  $44.099999999999994\n",
      "Issued on: 2020-03-10 00:00:00 \n",
      "\n",
      "_________________________________________________________________________________________________________\n",
      "\n",
      "Customer:  jimmy Terry\n",
      "Order: \n",
      "  Pizza conference => ['salad', 'mozzarella', 'ketchup', 'mayo'] price: $15\n",
      "  Pizza Chorizo => ['baecon', 'cheeze', 'ketchup', 'saucisse'] price: $24\n",
      "Promotion Code: HALOWEEN \n",
      "reduction: 13%\n",
      "Total:  $33.93\n",
      "Issued on: 2020-03-10 00:00:00 \n",
      "\n",
      "_________________________________________________________________________________________________________\n",
      "\n",
      "Customer:  mat Garnet\n",
      "Order: \n",
      "  Pizza Charal => ['baecon', 'cheeze', 'ketchup', 'saucisse'] price: $20\n",
      "  Pizza Barbecue => ['baecon', 'cheeze', 'ketchup', 'saucisse'] price: $25\n",
      "Promotion Code: PIZZAS LOVERS \n",
      "reduction: 30%\n",
      "Total:  $31.499999999999996\n",
      "Issued on: 2020-03-10 00:00:00 \n",
      "\n",
      "_________________________________________________________________________________________________________\n",
      "\n",
      "Customer:  helene Terry\n",
      "Order: \n",
      "  Pizza Green => ['baecon', 'cheeze', 'ketchup', 'saucisse'] price: $17\n",
      "  Pizza Box => ['baecon', 'cheeze', 'ketchup', 'saucisse'] price: $18\n",
      "  Pizza Peperoni => ['salad', 'mozzarella', 'ketchup', 'mayo'] price: $16\n",
      "Total:  $51\n",
      "Issued on: 2020-03-10 00:00:00 \n",
      "\n",
      "reduction not applicable: wrong promotion code\n",
      "_________________________________________________________________________________________________________\n",
      "\n",
      "Customer:  kathreen Popstar\n",
      "Order: \n",
      "  Pizza Barbecue => ['baecon', 'cheeze', 'ketchup', 'saucisse'] price: $25\n",
      "Promotion Code: PIZZAS LOVERS \n",
      "reduction: 30%\n",
      "Total:  $17.5\n",
      "Issued on: 2020-03-10 00:00:00 \n",
      "\n",
      "_________________________________________________________________________________________________________\n",
      "\n"
     ]
    }
   ],
   "source": [
    "items_prior_to = first_store.search_order_prior_to(2020, 3, 23)\n",
    "\n",
    "show_content_range(items_prior_to, end=5)"
   ]
  },
  {
   "cell_type": "markdown",
   "metadata": {},
   "source": [
    "#### Get order after a specified date"
   ]
  },
  {
   "cell_type": "code",
   "execution_count": 30,
   "metadata": {},
   "outputs": [
    {
     "name": "stdout",
     "output_type": "stream",
     "text": [
      "Total number of Items: 99\n",
      "Items from 0 to 5 \n",
      "\n",
      "Customer:  manu sparrow\n",
      "Order: \n",
      "  Pizza Barbecue => ['baecon', 'cheeze', 'ketchup', 'saucisse'] price: $25\n",
      "  Pizza Chorizo => ['baecon', 'cheeze', 'ketchup', 'saucisse'] price: $24\n",
      "Promotion Code: WELCOME SENIORS \n",
      "reduction: 17%\n",
      "Total:  $40.669999999999995\n",
      "Issued on: 2020-04-03 00:00:00 \n",
      "\n",
      "_________________________________________________________________________________________________________\n",
      "\n",
      "Customer:  dani Reagan\n",
      "Order: \n",
      "  Pizza Charal => ['baecon', 'cheeze', 'ketchup', 'saucisse'] price: $20\n",
      "  Pizza Charal => ['baecon', 'cheeze', 'ketchup', 'saucisse'] price: $20\n",
      "  Pizza Green => ['baecon', 'cheeze', 'ketchup', 'saucisse'] price: $17\n",
      "  Pizza Chorizo => ['baecon', 'cheeze', 'ketchup', 'saucisse'] price: $24\n",
      "  Pizza Chorizo => ['baecon', 'cheeze', 'ketchup', 'saucisse'] price: $24\n",
      "  Pizza conference => ['salad', 'mozzarella', 'ketchup', 'mayo'] price: $15\n",
      "Promotion Code: HAPPY HOURS \n",
      "reduction: 10%\n",
      "Total:  $108.0\n",
      "Issued on: 2020-04-03 00:00:00 \n",
      "\n",
      "_________________________________________________________________________________________________________\n",
      "\n",
      "Customer:  dani Popstar\n",
      "Order: \n",
      "  Pizza Barbecue => ['baecon', 'cheeze', 'ketchup', 'saucisse'] price: $25\n",
      "  Pizza Box => ['baecon', 'cheeze', 'ketchup', 'saucisse'] price: $18\n",
      "  Pizza Charal => ['baecon', 'cheeze', 'ketchup', 'saucisse'] price: $20\n",
      "  Pizza Chorizo => ['baecon', 'cheeze', 'ketchup', 'saucisse'] price: $24\n",
      "Promotion Code: PIZZAS LOVERS \n",
      "reduction: 30%\n",
      "Total:  $60.9\n",
      "Issued on: 2020-04-03 00:00:00 \n",
      "\n",
      "_________________________________________________________________________________________________________\n",
      "\n",
      "Customer:  mat Scott\n",
      "Order: \n",
      "  Pizza Green => ['baecon', 'cheeze', 'ketchup', 'saucisse'] price: $17\n",
      "  Pizza Chorizo => ['baecon', 'cheeze', 'ketchup', 'saucisse'] price: $24\n",
      "  Pizza conference => ['salad', 'mozzarella', 'ketchup', 'mayo'] price: $15\n",
      "  Pizza Peperoni => ['salad', 'mozzarella', 'ketchup', 'mayo'] price: $16\n",
      "  Pizza Chorizo => ['baecon', 'cheeze', 'ketchup', 'saucisse'] price: $24\n",
      "  Pizza Charal => ['baecon', 'cheeze', 'ketchup', 'saucisse'] price: $20\n",
      "Promotion Code: HALOWEEN \n",
      "reduction: 13%\n",
      "Total:  $100.92\n",
      "Issued on: 2020-04-03 00:00:00 \n",
      "\n",
      "_________________________________________________________________________________________________________\n",
      "\n",
      "Customer:  frank Scott\n",
      "Order: \n",
      "  Pizza Chorizo => ['baecon', 'cheeze', 'ketchup', 'saucisse'] price: $24\n",
      "  Pizza Box => ['baecon', 'cheeze', 'ketchup', 'saucisse'] price: $18\n",
      "  Pizza Peperoni => ['salad', 'mozzarella', 'ketchup', 'mayo'] price: $16\n",
      "  Pizza Peperoni => ['salad', 'mozzarella', 'ketchup', 'mayo'] price: $16\n",
      "Promotion Code: PIZZAS LOVERS \n",
      "reduction: 30%\n",
      "Total:  $51.8\n",
      "Issued on: 2020-04-03 00:00:00 \n",
      "\n",
      "_________________________________________________________________________________________________________\n",
      "\n"
     ]
    }
   ],
   "source": [
    "items_after_date = first_store.search_order_after(2020, 3, 17)\n",
    "\n",
    "show_content_range(items_after_date, end=5)"
   ]
  },
  {
   "cell_type": "markdown",
   "metadata": {},
   "source": [
    "#### Get Monthly sales "
   ]
  },
  {
   "cell_type": "code",
   "execution_count": 31,
   "metadata": {},
   "outputs": [
    {
     "name": "stdout",
     "output_type": "stream",
     "text": [
      "monthly sales for February 2020:   $13428.94\n"
     ]
    }
   ],
   "source": [
    "# setting some random date in the interested month\n",
    "d, m, y = 1, 2, 2020\n",
    "\n",
    "# get the monthly sales\n",
    "montly_sales = first_store.get_monthly_pizza_sales(year=y, month=m)\n",
    "\n",
    "related_date = datetime(y, m, d)\n",
    "\n",
    "\n",
    "# format output\n",
    "print(f'monthly sales for {related_date.strftime(\"%B\")} {related_date.year}:   ${montly_sales}')"
   ]
  },
  {
   "cell_type": "markdown",
   "metadata": {},
   "source": [
    "#### creating more stores"
   ]
  },
  {
   "cell_type": "code",
   "execution_count": 32,
   "metadata": {},
   "outputs": [],
   "source": [
    "for i in range(10):\n",
    "    STORES.append(Store(\n",
    "                phone_number=numbers[randint(0, len(numbers)-1)],\n",
    "                zip_code=zip_codes[randint(0, len(zip_codes)-1)], \n",
    "                street=street_names[randint(0, len(street_names)-1)], \n",
    "                city=cities[randint(0, len(cities)-1)])\n",
    "                 )\n",
    "    "
   ]
  },
  {
   "cell_type": "code",
   "execution_count": 69,
   "metadata": {},
   "outputs": [
    {
     "name": "stdout",
     "output_type": "stream",
     "text": [
      "Total number of Items: 11\n",
      "Items from 0 to 10 \n",
      "\n",
      "PIZZA CORNER: TAKOMA, BLACK LIVES PL MD Street 1557, \n",
      "phone: 12345654345\n",
      "PIZZA CORNER: COLUMBIA, SPRINGS Street 1051, \n",
      "phone: 098765445678\n",
      "PIZZA CORNER: LAUREL, KING ARTHUR Street 90002, \n",
      "phone: 9876542567\n",
      "PIZZA CORNER: TAKOMA, DIGITAL LIVE Street 90002, \n",
      "phone: 0987656789\n",
      "PIZZA CORNER: SILVER SPRING, BLACK LIVES PL Street 42571, \n",
      "phone: 0987656789\n",
      "PIZZA CORNER: LANDOVER, BOONDAEL Street 1051, \n",
      "phone: 4567898765678\n",
      "PIZZA CORNER: HYATTSVILLE, BOONDAEL Street 2467, \n",
      "phone: 3456789287\n",
      "PIZZA CORNER: TAKOMA, KING ARTHUR Street 1167, \n",
      "phone: 4567898765678\n",
      "PIZZA CORNER: TAKOMA, BOONDAEL Street 1167, \n",
      "phone: 9876567898764\n",
      "PIZZA CORNER: TAKOMA, IXELLES Street 1557, \n",
      "phone: 3456789287\n"
     ]
    }
   ],
   "source": [
    "show_content_range(STORES)"
   ]
  },
  {
   "cell_type": "markdown",
   "metadata": {},
   "source": [
    "#### Customer getting store in the same zip"
   ]
  },
  {
   "cell_type": "code",
   "execution_count": 33,
   "metadata": {},
   "outputs": [
    {
     "name": "stdout",
     "output_type": "stream",
     "text": [
      "helene Terry:   LAUREL, IXELLES Street 2467\n",
      "\n",
      "Total number of Items: 2\n",
      "Items from 0 to 2 \n",
      "\n",
      "PIZZA CORNER: HYATTSVILLE, BOONDAEL Street 2467, \n",
      "phone: 098765445678\n",
      "PIZZA CORNER: RIVERDALE, BLACK LIVES PL Street 2467, \n",
      "phone: 4567898765678\n",
      "\n",
      "NOTE:\n",
      "The city names and street names are random values, the filters only applies on zip codes\n"
     ]
    }
   ],
   "source": [
    "c = customers[0]\n",
    "\n",
    "print(c)\n",
    "print()\n",
    "show_content_range(c.find_store_nearby())\n",
    "\n",
    "print(f\"\\nNOTE:\\nThe city names and street names are random values, the filters only applies on zip codes\")"
   ]
  },
  {
   "cell_type": "markdown",
   "metadata": {},
   "source": [
    "## Using Big O Notation to explain searching and sorting, and time/sapce computational complexitity."
   ]
  },
  {
   "cell_type": "markdown",
   "metadata": {},
   "source": [
    " **The Sorting algorithm used for this project is the Python Timsort Algorithm.**\n",
    "\n",
    ">Timsort is a hybrid algorithm, derived from merge sort and insertion sort, designed to perform well on many kinds of real-world data. It was invented by Tim Peters in 2002 for use in the Python programming language. The algorithm finds subsets of the data that are already ordered, and uses the subsets to sort the data more efficiently. This is done by merging an identified subset, called a run, with existing runs until certain criteria are fulfilled. Timsort has been Python's standard sorting algorithm since version 2.3. It is now also used to sort arrays in Java SE 7, and on the Android platform.\n",
    "\n",
    "https://stackoverflow.com/questions/10948920/what-algorithm-does-pythons-sorted-use\n",
    "https://en.wikipedia.org/wiki/Timsort"
   ]
  },
  {
   "cell_type": "markdown",
   "metadata": {},
   "source": [
    "**The Search methond used in this project is the Linear-Search.**\n",
    "\n",
    ">Linear search is one of the simplest searching algorithms, and the easiest to understand. The time complexity of linear search is O(n), meaning that the time taken to execute increases with the number of items in our input list. Although linear search is not often used in practice, because the same efficiency can be achieved by using inbuilt methods or existing operators, and it is not as fast or efficient as other search algorithms, nevertheless linear search is a good fit for this project since  we are using an unsorted collection of items. Unlike most other search algorithms, it does not require that a collection be sorted before searching begins.\n",
    "\n",
    "https://stackabuse.com/search-algorithms-in-python/\n"
   ]
  },
  {
   "cell_type": "markdown",
   "metadata": {},
   "source": [
    "[Here is a link to the top of the page](#the_top)"
   ]
  },
  {
   "cell_type": "markdown",
   "metadata": {},
   "source": [
    "# References:\n",
    "  - https://github.com/topics/pizza-order\n",
    "  - https://github.com/mddemarie/pizza-ordering-system"
   ]
  }
 ],
 "metadata": {
  "kernelspec": {
   "display_name": "Python 3",
   "language": "python",
   "name": "python3"
  },
  "language_info": {
   "codemirror_mode": {
    "name": "ipython",
    "version": 3
   },
   "file_extension": ".py",
   "mimetype": "text/x-python",
   "name": "python",
   "nbconvert_exporter": "python",
   "pygments_lexer": "ipython3",
   "version": "3.7.4"
  }
 },
 "nbformat": 4,
 "nbformat_minor": 2
}
